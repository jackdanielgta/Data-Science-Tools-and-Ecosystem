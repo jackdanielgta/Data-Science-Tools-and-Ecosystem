{
 "cells": [
  {
   "cell_type": "markdown",
   "id": "f4339a30",
   "metadata": {},
   "source": [
    "# Data Science Tools and Ecosystem"
   ]
  },
  {
   "cell_type": "markdown",
   "id": "e676c9f7",
   "metadata": {},
   "source": [
    "## Introduction\n",
    "In this notebook, Data Science Tools and Ecosystem are summarized."
   ]
  },
  {
   "cell_type": "markdown",
   "id": "41f3a9c1",
   "metadata": {},
   "source": [
    "## Some of the popular languages that Data Scientists use are:\n",
    "\n",
    "1. Python\n",
    "2. R\n",
    "3. SQL\n",
    "4. Julia\n",
    "5. Java"
   ]
  },
  {
   "cell_type": "markdown",
   "id": "60cc8254",
   "metadata": {},
   "source": [
    "## Some of the commonly used libraries used by Data Scientists include:\n",
    "\n",
    "1. Pandas\n",
    "2. NumPy\n",
    "3. Matplotlib\n",
    "4. Seaborn\n",
    "5. Scikit-learn\n",
    "6. TensorFlow\n",
    "7. PyTorch"
   ]
  },
  {
   "cell_type": "markdown",
   "id": "cd0023f8",
   "metadata": {},
   "source": [
    "## Data Science Tools\n",
    "\n",
    "| Data Science Tools |\n",
    "|--------------------|\n",
    "| Jupyter Notebook |\n",
    "| RStudio |\n",
    "| Apache Spark |"
   ]
  },
  {
   "cell_type": "markdown",
   "id": "dd23a142",
   "metadata": {},
   "source": [
    "### Below are a few examples of evaluating arithmetic expressions in Python."
   ]
  },
  {
   "cell_type": "code",
   "execution_count": null,
   "id": "8ac82877",
   "metadata": {},
   "outputs": [],
   "source": [
    "# This is a simple arithmetic expression to multiply then add integers.\n",
    "result = (3 * 4) + 5\n",
    "print('The result of (3*4)+5 is:', result)"
   ]
  },
  {
   "cell_type": "code",
   "execution_count": null,
   "id": "d9c5f122",
   "metadata": {},
   "outputs": [],
   "source": [
    "# This will convert 200 minutes to hours by dividing by 60.\n",
    "minutes = 200\n",
    "hours = minutes / 60\n",
    "print(f'{minutes} minutes is equal to {hours} hours.')"
   ]
  },
  {
   "cell_type": "markdown",
   "id": "5e07d681",
   "metadata": {},
   "source": [
    "## **Objectives:**\n",
    "\n",
    "- List popular languages for Data Science\n",
    "- Identify commonly used Data Science libraries\n",
    "- Explore open-source Data Science tools\n",
    "- Perform basic arithmetic operations using Python\n",
    "- Convert time units using Python"
   ]
  },
  {
   "cell_type": "markdown",
   "id": "837dc7b4",
   "metadata": {},
   "source": [
    "## Author\n",
    "Jack Daniel"
   ]
  },
  {
   "cell_type": "markdown",
   "id": "2bc40d92",
   "metadata": {},
   "source": [
    "## Sharing via GitHub\n",
    "Upload your notebook to a public GitHub repository and share the link for evaluation."
   ]
  },
  {
   "cell_type": "markdown",
   "id": "b1c657f6",
   "metadata": {},
   "source": [
    "## Screenshot Instructions\n",
    "Take a screenshot of the first page of this notebook, ensuring it includes the notebook title and the first few sections."
   ]
  }
 ],
 "metadata": {},
 "nbformat": 4,
 "nbformat_minor": 5
}